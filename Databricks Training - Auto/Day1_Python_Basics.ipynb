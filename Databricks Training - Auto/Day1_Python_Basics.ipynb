{
 "cells": [
  {
   "cell_type": "markdown",
   "metadata": {
    "application/vnd.databricks.v1+cell": {
     "cellMetadata": {},
     "inputWidgets": {},
     "nuid": "c626f83d-6f5e-473f-9b5f-1898cd73e837",
     "showTitle": false,
     "tableResultSettingsMap": {},
     "title": ""
    },
    "id": "BCoXzOH5CnM1"
   },
   "source": [
    "## Getting started with Python"
   ]
  },
  {
   "cell_type": "markdown",
   "metadata": {
    "application/vnd.databricks.v1+cell": {
     "cellMetadata": {},
     "inputWidgets": {},
     "nuid": "37790ec9-33c4-4c54-87c3-b8f83bb50499",
     "showTitle": false,
     "tableResultSettingsMap": {},
     "title": ""
    },
    "id": "DVIkyZoNCumk"
   },
   "source": [
    "Fundamental Data Types : Immutable(can not change)\n",
    "1.   Int\n",
    "2.   Float\n",
    "3. String\n",
    "4. Bool\n",
    "5. Complex\n",
    "\n"
   ]
  },
  {
   "cell_type": "code",
   "execution_count": 0,
   "metadata": {
    "application/vnd.databricks.v1+cell": {
     "cellMetadata": {},
     "inputWidgets": {},
     "nuid": "aa15ee4e-d8a3-4963-b875-9c23ef3765bb",
     "showTitle": false,
     "tableResultSettingsMap": {},
     "title": ""
    },
    "colab": {
     "base_uri": "https://localhost:8080/"
    },
    "id": "YERXP24UB5h1",
    "outputId": "af9c45b0-518e-4ad9-97f6-f4683bc44aa3"
   },
   "outputs": [],
   "source": [
    "a=10\n",
    "print(a)\n",
    "print(type(a))"
   ]
  },
  {
   "cell_type": "code",
   "execution_count": 0,
   "metadata": {
    "application/vnd.databricks.v1+cell": {
     "cellMetadata": {},
     "inputWidgets": {},
     "nuid": "831ed7da-362c-4c34-aa52-533e878d2819",
     "showTitle": false,
     "tableResultSettingsMap": {},
     "title": ""
    },
    "colab": {
     "base_uri": "https://localhost:8080/"
    },
    "id": "1S5D_6q7CmUs",
    "outputId": "884c6a00-c1bf-461e-dd66-2a84c3af2947"
   },
   "outputs": [],
   "source": [
    "b=20.1\n",
    "print(b)\n",
    "print(type(b))"
   ]
  },
  {
   "cell_type": "code",
   "execution_count": 0,
   "metadata": {
    "application/vnd.databricks.v1+cell": {
     "cellMetadata": {},
     "inputWidgets": {},
     "nuid": "85e1fb5e-1c1b-4892-a8db-d0c9e7d5cbdf",
     "showTitle": false,
     "tableResultSettingsMap": {},
     "title": ""
    },
    "colab": {
     "base_uri": "https://localhost:8080/"
    },
    "id": "zrn9BWHBEMOv",
    "outputId": "6efd6ac1-4618-46fe-9471-1cb95c5bab9a"
   },
   "outputs": [],
   "source": [
    "c=\"Python\"\n",
    "print(c)\n",
    "print(type(c))"
   ]
  },
  {
   "cell_type": "code",
   "execution_count": 0,
   "metadata": {
    "application/vnd.databricks.v1+cell": {
     "cellMetadata": {},
     "inputWidgets": {},
     "nuid": "31430e33-0260-4c5b-a5d7-6ad2062d2680",
     "showTitle": false,
     "tableResultSettingsMap": {},
     "title": ""
    },
    "colab": {
     "base_uri": "https://localhost:8080/"
    },
    "id": "onsh9HOHEP44",
    "outputId": "5186d4c4-837c-412a-c444-600de3c807db"
   },
   "outputs": [],
   "source": [
    "c=\"\"\"Python\n",
    "is easy to learn\"\"\"\n",
    "print(c)\n",
    "print(type(c))"
   ]
  },
  {
   "cell_type": "code",
   "execution_count": 0,
   "metadata": {
    "application/vnd.databricks.v1+cell": {
     "cellMetadata": {},
     "inputWidgets": {},
     "nuid": "34aa5a51-bc1c-4014-8c8f-540060b99f3d",
     "showTitle": false,
     "tableResultSettingsMap": {},
     "title": ""
    },
    "colab": {
     "base_uri": "https://localhost:8080/"
    },
    "id": "8FTPFCP3EoG2",
    "outputId": "08c205ca-83f4-41aa-f9e2-a01b4d8b156b"
   },
   "outputs": [],
   "source": [
    "d=True\n",
    "print(type(d))"
   ]
  },
  {
   "cell_type": "code",
   "execution_count": 0,
   "metadata": {
    "application/vnd.databricks.v1+cell": {
     "cellMetadata": {},
     "inputWidgets": {},
     "nuid": "565b0170-6215-4d54-9e56-ef317fba4a9c",
     "showTitle": false,
     "tableResultSettingsMap": {},
     "title": ""
    },
    "colab": {
     "base_uri": "https://localhost:8080/"
    },
    "id": "TtI7kA1DEyha",
    "outputId": "b7e1aab1-805a-415f-e46b-acdca58029e0"
   },
   "outputs": [],
   "source": [
    "d=False\n",
    "print(type(d))"
   ]
  },
  {
   "cell_type": "code",
   "execution_count": 0,
   "metadata": {
    "application/vnd.databricks.v1+cell": {
     "cellMetadata": {},
     "inputWidgets": {},
     "nuid": "b4cd6a6d-1b9f-4135-ab4a-50faeae31799",
     "showTitle": false,
     "tableResultSettingsMap": {},
     "title": ""
    },
    "colab": {
     "base_uri": "https://localhost:8080/"
    },
    "id": "_AB7GAAHFIgq",
    "outputId": "58a909a4-dcb2-445e-ca23-1d0682c37a20"
   },
   "outputs": [],
   "source": [
    "a=10\n",
    "print(a)\n",
    "print(type(a))\n",
    "print(id(a))"
   ]
  },
  {
   "cell_type": "code",
   "execution_count": 0,
   "metadata": {
    "application/vnd.databricks.v1+cell": {
     "cellMetadata": {},
     "inputWidgets": {},
     "nuid": "5554977f-c801-45a2-9e5a-37c56ef28e7c",
     "showTitle": false,
     "tableResultSettingsMap": {},
     "title": ""
    },
    "colab": {
     "base_uri": "https://localhost:8080/"
    },
    "id": "tGtmPyEPGqG9",
    "outputId": "b0e88028-8b1b-400c-ff22-53065e6cf381"
   },
   "outputs": [],
   "source": [
    "a=\"Databricks\"\n",
    "print(a)\n",
    "print(type(a))\n",
    "print(id(a))"
   ]
  },
  {
   "cell_type": "code",
   "execution_count": 0,
   "metadata": {
    "application/vnd.databricks.v1+cell": {
     "cellMetadata": {},
     "inputWidgets": {},
     "nuid": "4a7c86c5-78a9-460d-b5ac-6f3db28b7847",
     "showTitle": false,
     "tableResultSettingsMap": {},
     "title": ""
    },
    "colab": {
     "base_uri": "https://localhost:8080/"
    },
    "id": "ukhtTkHGJyil",
    "outputId": "148dc4c7-d913-45ee-ba7d-142057d35e57"
   },
   "outputs": [],
   "source": [
    "print(a)"
   ]
  },
  {
   "cell_type": "code",
   "execution_count": 0,
   "metadata": {
    "application/vnd.databricks.v1+cell": {
     "cellMetadata": {},
     "inputWidgets": {},
     "nuid": "464b655e-6877-4a0c-9d01-927c7cd2bebd",
     "showTitle": false,
     "tableResultSettingsMap": {},
     "title": ""
    },
    "colab": {
     "base_uri": "https://localhost:8080/"
    },
    "id": "ZNdAmjSLGxda",
    "outputId": "17340fd9-c605-4619-b267-05f39a742913"
   },
   "outputs": [],
   "source": [
    "b=20\n",
    "print(b)\n",
    "print(type(b))\n",
    "print(id(b))"
   ]
  },
  {
   "cell_type": "code",
   "execution_count": 0,
   "metadata": {
    "application/vnd.databricks.v1+cell": {
     "cellMetadata": {},
     "inputWidgets": {},
     "nuid": "91225dd7-fae6-40e0-8b59-21ef8a137861",
     "showTitle": false,
     "tableResultSettingsMap": {},
     "title": ""
    },
    "id": "3wqA1e2VG31h"
   },
   "outputs": [],
   "source": [
    "a=10\n",
    "a=True\n",
    "print(type(a))"
   ]
  },
  {
   "cell_type": "code",
   "execution_count": 0,
   "metadata": {
    "application/vnd.databricks.v1+cell": {
     "cellMetadata": {},
     "inputWidgets": {},
     "nuid": "83cc0a49-5162-4668-aecd-b8abd9c6deb0",
     "showTitle": false,
     "tableResultSettingsMap": {},
     "title": ""
    },
    "id": "VRJj5KHeJ_H2"
   },
   "outputs": [],
   "source": [
    "s=\"Databricks is data and AI company\""
   ]
  },
  {
   "cell_type": "code",
   "execution_count": 0,
   "metadata": {
    "application/vnd.databricks.v1+cell": {
     "cellMetadata": {},
     "inputWidgets": {},
     "nuid": "82d24d09-e179-4d4b-bc76-a792a53d147f",
     "showTitle": false,
     "tableResultSettingsMap": {},
     "title": ""
    },
    "colab": {
     "base_uri": "https://localhost:8080/"
    },
    "id": "cF8bXYr8KHp7",
    "outputId": "28c542ea-92f0-4457-82b4-71050e12cc15"
   },
   "outputs": [],
   "source": [
    "# indexing and slicing\n",
    "print(s[-1])\n",
    "print(s[1])\n",
    "print(s[5:10])\n",
    "print(s[11:])\n",
    "print(s[:10])"
   ]
  },
  {
   "cell_type": "code",
   "execution_count": 0,
   "metadata": {
    "application/vnd.databricks.v1+cell": {
     "cellMetadata": {},
     "inputWidgets": {},
     "nuid": "1dbbb34b-8f32-42b8-8b0d-4fdf0463e7b9",
     "showTitle": false,
     "tableResultSettingsMap": {},
     "title": ""
    },
    "colab": {
     "base_uri": "https://localhost:8080/",
     "height": 35
    },
    "id": "okmoGG0ZLCkM",
    "outputId": "27661ee0-edab-4445-a87d-8d187ad4beb7"
   },
   "outputs": [],
   "source": [
    "s[:10]"
   ]
  },
  {
   "cell_type": "code",
   "execution_count": 0,
   "metadata": {
    "application/vnd.databricks.v1+cell": {
     "cellMetadata": {},
     "inputWidgets": {},
     "nuid": "0e8fd249-f2ad-407c-abfa-76b853435fb9",
     "showTitle": false,
     "tableResultSettingsMap": {},
     "title": ""
    },
    "id": "iK6TIhnNME9z"
   },
   "outputs": [],
   "source": [
    "10+10\n",
    "10*3"
   ]
  },
  {
   "cell_type": "code",
   "execution_count": 0,
   "metadata": {
    "application/vnd.databricks.v1+cell": {
     "cellMetadata": {},
     "inputWidgets": {},
     "nuid": "d2e354b8-26ee-495b-b11f-d36e8a11e48f",
     "showTitle": false,
     "tableResultSettingsMap": {},
     "title": ""
    },
    "id": "JZRmL2OuLun9"
   },
   "outputs": [],
   "source": [
    "# opertors: +, *"
   ]
  },
  {
   "cell_type": "code",
   "execution_count": 0,
   "metadata": {
    "application/vnd.databricks.v1+cell": {
     "cellMetadata": {},
     "inputWidgets": {},
     "nuid": "cfe11735-73da-4322-bdde-9e462609c8c9",
     "showTitle": false,
     "tableResultSettingsMap": {},
     "title": ""
    },
    "id": "Ehro3GVfMI5r"
   },
   "outputs": [],
   "source": [
    "s=\"AWS\" + \" \" + \"Databricks\""
   ]
  },
  {
   "cell_type": "code",
   "execution_count": 0,
   "metadata": {
    "application/vnd.databricks.v1+cell": {
     "cellMetadata": {},
     "inputWidgets": {},
     "nuid": "acb6fa7e-eba1-4cc3-870a-ff2bce7f5106",
     "showTitle": false,
     "tableResultSettingsMap": {},
     "title": ""
    },
    "id": "Y3sxk_ElMZ6t"
   },
   "outputs": [],
   "source": [
    "s=\"AWS\" + \"Databricks\""
   ]
  },
  {
   "cell_type": "code",
   "execution_count": 0,
   "metadata": {
    "application/vnd.databricks.v1+cell": {
     "cellMetadata": {},
     "inputWidgets": {},
     "nuid": "ad8ded3e-c9f2-4dbb-aa4f-df0fedae5927",
     "showTitle": false,
     "tableResultSettingsMap": {},
     "title": ""
    },
    "colab": {
     "base_uri": "https://localhost:8080/"
    },
    "id": "0sdboMG4MIwS",
    "outputId": "edfd7c1c-a0ca-4248-8c4c-2148832d8662"
   },
   "outputs": [],
   "source": [
    "print(s)"
   ]
  },
  {
   "cell_type": "code",
   "execution_count": 0,
   "metadata": {
    "application/vnd.databricks.v1+cell": {
     "cellMetadata": {},
     "inputWidgets": {},
     "nuid": "caea308c-fa33-468c-8b8d-39efe995e77a",
     "showTitle": false,
     "tableResultSettingsMap": {},
     "title": ""
    },
    "colab": {
     "base_uri": "https://localhost:8080/",
     "height": 141
    },
    "id": "-IH4yIrcMWFX",
    "outputId": "687cb0d2-fe97-4db4-9edd-64f9034b097d"
   },
   "outputs": [],
   "source": [
    "s=\"AWS\" + 10"
   ]
  },
  {
   "cell_type": "code",
   "execution_count": 0,
   "metadata": {
    "application/vnd.databricks.v1+cell": {
     "cellMetadata": {},
     "inputWidgets": {},
     "nuid": "cac79ef5-ae7c-43a9-acbb-1e06c6f188b1",
     "showTitle": false,
     "tableResultSettingsMap": {},
     "title": ""
    },
    "colab": {
     "base_uri": "https://localhost:8080/",
     "height": 141
    },
    "id": "RrAx6b5LMoN4",
    "outputId": "787564ca-0d34-47ce-c492-2e27f885fc9d"
   },
   "outputs": [],
   "source": [
    "s=\"AWS\" * \"Databricks\""
   ]
  },
  {
   "cell_type": "code",
   "execution_count": 0,
   "metadata": {
    "application/vnd.databricks.v1+cell": {
     "cellMetadata": {},
     "inputWidgets": {},
     "nuid": "0ba36ab4-9ed3-40bd-a71d-9b1efcfd3ade",
     "showTitle": false,
     "tableResultSettingsMap": {},
     "title": ""
    },
    "colab": {
     "base_uri": "https://localhost:8080/"
    },
    "id": "_yOmy9FaM8qm",
    "outputId": "abebe2c3-02c5-41fe-f7b7-924e9bc30881"
   },
   "outputs": [],
   "source": [
    "s=\"AWS\" * 3\n",
    "print(s)"
   ]
  },
  {
   "cell_type": "code",
   "execution_count": 0,
   "metadata": {
    "application/vnd.databricks.v1+cell": {
     "cellMetadata": {},
     "inputWidgets": {},
     "nuid": "528fb650-c0ed-4e65-a24b-9ca892686ca1",
     "showTitle": false,
     "tableResultSettingsMap": {},
     "title": ""
    },
    "id": "xdLgRpMVNBHW"
   },
   "outputs": [],
   "source": [
    "# + both should str + str (str + str)\n",
    "# * one should str other should be int ( int * str)"
   ]
  },
  {
   "cell_type": "markdown",
   "metadata": {
    "application/vnd.databricks.v1+cell": {
     "cellMetadata": {},
     "inputWidgets": {},
     "nuid": "87250b6e-a116-4c13-a773-d682fed50599",
     "showTitle": false,
     "tableResultSettingsMap": {},
     "title": ""
    },
    "id": "UDJu0dyNN1kp"
   },
   "source": [
    "### Type casting"
   ]
  },
  {
   "cell_type": "code",
   "execution_count": 0,
   "metadata": {
    "application/vnd.databricks.v1+cell": {
     "cellMetadata": {},
     "inputWidgets": {},
     "nuid": "9bdc2539-0769-4d1f-8409-ffa7e41159f2",
     "showTitle": false,
     "tableResultSettingsMap": {},
     "title": ""
    },
    "colab": {
     "base_uri": "https://localhost:8080/"
    },
    "id": "xeb9b3hANSzJ",
    "outputId": "1c568663-11b4-4d70-dda6-c88eb0f03554"
   },
   "outputs": [],
   "source": [
    "print(float(10))\n",
    "print(str(10))\n",
    "print(bool(10))\n",
    "print(bool(0))"
   ]
  },
  {
   "cell_type": "code",
   "execution_count": 0,
   "metadata": {
    "application/vnd.databricks.v1+cell": {
     "cellMetadata": {},
     "inputWidgets": {},
     "nuid": "c591326a-7f2d-4686-ab67-245400ce8f62",
     "showTitle": false,
     "tableResultSettingsMap": {},
     "title": ""
    },
    "colab": {
     "base_uri": "https://localhost:8080/"
    },
    "id": "Z6Kbe9AFOrJa",
    "outputId": "a958f039-d57d-4fc0-cd6f-a3a5bcd54faf"
   },
   "outputs": [],
   "source": [
    "print(int(10.1))\n",
    "print(str(10.1))\n",
    "print(bool(10.1))\n",
    "print(bool(0.0))"
   ]
  },
  {
   "cell_type": "code",
   "execution_count": 0,
   "metadata": {
    "application/vnd.databricks.v1+cell": {
     "cellMetadata": {},
     "inputWidgets": {},
     "nuid": "c2aaefe1-ba24-4121-bbce-bbaf640bbe95",
     "showTitle": false,
     "tableResultSettingsMap": {},
     "title": ""
    },
    "colab": {
     "base_uri": "https://localhost:8080/"
    },
    "id": "uVQBNkKKO0G0",
    "outputId": "bc172d71-d221-4ca0-fac4-8cfa951a47e9"
   },
   "outputs": [],
   "source": [
    "print(int(\"10\"))\n",
    "#print(int(\"python\")) # Error\n",
    "#print(float(\"python\")) #Error\n",
    "print(bool(\"python\"))\n",
    "print(bool(\"\"))"
   ]
  },
  {
   "cell_type": "markdown",
   "metadata": {
    "application/vnd.databricks.v1+cell": {
     "cellMetadata": {},
     "inputWidgets": {},
     "nuid": "37ef7106-e784-47a9-8e4f-8c2b0b8ec80f",
     "showTitle": false,
     "tableResultSettingsMap": {},
     "title": ""
    },
    "id": "xfCyxFzFRRLK"
   },
   "source": [
    "# Data Type Advance\n",
    "\n",
    "1. List\n",
    "2. Tuple\n",
    "3. Set\n",
    "4. Dict\n",
    "5. Range\n",
    "\n"
   ]
  },
  {
   "cell_type": "markdown",
   "metadata": {
    "application/vnd.databricks.v1+cell": {
     "cellMetadata": {},
     "inputWidgets": {},
     "nuid": "661db6f0-1094-42ef-9cc5-6cac6aa3f28d",
     "showTitle": false,
     "tableResultSettingsMap": {},
     "title": ""
    },
    "id": "e3ZNUdp8SZ_x"
   },
   "source": [
    "# List\n",
    "\n",
    "1. []\n",
    "2. Heterogenous object allowed\n",
    "3. Duplicates are allowed\n",
    "4. Order is presereved\n",
    "5. Indexing and slicing\n",
    "6. Mutable\n",
    "\n"
   ]
  },
  {
   "cell_type": "code",
   "execution_count": 0,
   "metadata": {
    "application/vnd.databricks.v1+cell": {
     "cellMetadata": {},
     "inputWidgets": {},
     "nuid": "8f609009-044b-4aab-90d7-561db26c7081",
     "showTitle": false,
     "tableResultSettingsMap": {},
     "title": ""
    },
    "id": "JljMAtCJSZxX"
   },
   "outputs": [],
   "source": [
    "l=[10,20,'SQL','AWS','AWS',True, False,99.99,10]"
   ]
  },
  {
   "cell_type": "code",
   "execution_count": 0,
   "metadata": {
    "application/vnd.databricks.v1+cell": {
     "cellMetadata": {},
     "inputWidgets": {},
     "nuid": "bf6fa27f-6874-4fbd-854c-be082c65bf47",
     "showTitle": false,
     "tableResultSettingsMap": {},
     "title": ""
    },
    "colab": {
     "base_uri": "https://localhost:8080/"
    },
    "id": "KRupcM0jTDp9",
    "outputId": "86522cc8-2285-4101-cc89-cf7be765e888"
   },
   "outputs": [],
   "source": [
    "print(l)\n",
    "print(id(l))\n",
    "print(type(l))\n",
    "l.append(55)\n",
    "print(l)\n",
    "print(id(l))"
   ]
  },
  {
   "cell_type": "code",
   "execution_count": 0,
   "metadata": {
    "application/vnd.databricks.v1+cell": {
     "cellMetadata": {},
     "inputWidgets": {},
     "nuid": "5f23b7cf-183b-4589-b5bc-1d712c892fc2",
     "showTitle": false,
     "tableResultSettingsMap": {},
     "title": ""
    },
    "colab": {
     "base_uri": "https://localhost:8080/"
    },
    "id": "zFf6F7S5Q0S0",
    "outputId": "b0ed82e9-9521-4650-b953-62db239eaa56"
   },
   "outputs": [],
   "source": [
    "l=[1,2,3,'a','b']\n",
    "print(l)\n",
    "print(id(l))"
   ]
  },
  {
   "cell_type": "code",
   "execution_count": 0,
   "metadata": {
    "application/vnd.databricks.v1+cell": {
     "cellMetadata": {},
     "inputWidgets": {},
     "nuid": "05a0d0a1-696e-4d0f-ac59-aaf0c93b18bd",
     "showTitle": false,
     "tableResultSettingsMap": {},
     "title": ""
    },
    "colab": {
     "base_uri": "https://localhost:8080/"
    },
    "id": "cOlWDhR_UA5v",
    "outputId": "03a91f03-16b3-47eb-8e56-2a36d8759008"
   },
   "outputs": [],
   "source": [
    "l[:100]"
   ]
  },
  {
   "cell_type": "code",
   "execution_count": 0,
   "metadata": {
    "application/vnd.databricks.v1+cell": {
     "cellMetadata": {},
     "inputWidgets": {},
     "nuid": "e06b1314-4585-4af7-a91f-94e2d53e05d6",
     "showTitle": false,
     "tableResultSettingsMap": {},
     "title": ""
    },
    "id": "PZ7SYiZjUIMN"
   },
   "outputs": [],
   "source": []
  },
  {
   "cell_type": "markdown",
   "metadata": {
    "application/vnd.databricks.v1+cell": {
     "cellMetadata": {},
     "inputWidgets": {},
     "nuid": "7235c181-61c9-4aff-91ed-9f652533cda4",
     "showTitle": false,
     "tableResultSettingsMap": {},
     "title": ""
    },
    "id": "6-Hf3HaaVJzK"
   },
   "source": [
    "# Tuple\n",
    "\n",
    "1.   Excatly same as list except that it is immutable\n",
    "2.   Read only version of list is tuple\n",
    "3. ()\n",
    "\n"
   ]
  },
  {
   "cell_type": "code",
   "execution_count": 0,
   "metadata": {
    "application/vnd.databricks.v1+cell": {
     "cellMetadata": {},
     "inputWidgets": {},
     "nuid": "07742ad0-b360-4135-bc5c-afde078c5253",
     "showTitle": false,
     "tableResultSettingsMap": {},
     "title": ""
    },
    "id": "0ooNlANAVYb6"
   },
   "outputs": [],
   "source": [
    "t=(10,10,'a',True,'Naval')"
   ]
  },
  {
   "cell_type": "code",
   "execution_count": 0,
   "metadata": {
    "application/vnd.databricks.v1+cell": {
     "cellMetadata": {},
     "inputWidgets": {},
     "nuid": "471f51c7-db0a-4118-85a2-c36d662dbe87",
     "showTitle": false,
     "tableResultSettingsMap": {},
     "title": ""
    },
    "colab": {
     "base_uri": "https://localhost:8080/",
     "height": 35
    },
    "id": "RXpuYp91Vg1l",
    "outputId": "46211f87-5add-40e8-bb75-c90a50c4f35b"
   },
   "outputs": [],
   "source": [
    "t[-1]"
   ]
  },
  {
   "cell_type": "code",
   "execution_count": 0,
   "metadata": {
    "application/vnd.databricks.v1+cell": {
     "cellMetadata": {},
     "inputWidgets": {},
     "nuid": "ad16fb18-63b3-4852-b4fb-3b8e56a3222e",
     "showTitle": false,
     "tableResultSettingsMap": {},
     "title": ""
    },
    "colab": {
     "base_uri": "https://localhost:8080/",
     "height": 141
    },
    "id": "9GBMsi5EVizZ",
    "outputId": "7460ab68-cd25-41e8-b38f-4833e6383f5a"
   },
   "outputs": [],
   "source": [
    "t.append(99)"
   ]
  },
  {
   "cell_type": "markdown",
   "metadata": {
    "application/vnd.databricks.v1+cell": {
     "cellMetadata": {},
     "inputWidgets": {},
     "nuid": "004b736e-f341-45c4-8131-dad128db27e6",
     "showTitle": false,
     "tableResultSettingsMap": {},
     "title": ""
    },
    "id": "RtqdkmkkWDHY"
   },
   "source": [
    " #set\n",
    "\n",
    "\n",
    "\n",
    "1.   {}\n",
    "2.   Hetergenous objects are allowed\n",
    "3. Duplicates are not allowed\n",
    "4. Order is NOT preserved\n",
    "5. Indexing and slicing NOT support\n",
    "6. Mutable\n",
    "\n"
   ]
  },
  {
   "cell_type": "code",
   "execution_count": 0,
   "metadata": {
    "application/vnd.databricks.v1+cell": {
     "cellMetadata": {},
     "inputWidgets": {},
     "nuid": "8c85634c-8304-4e2f-86ab-da8a09b2d1e4",
     "showTitle": false,
     "tableResultSettingsMap": {},
     "title": ""
    },
    "colab": {
     "base_uri": "https://localhost:8080/"
    },
    "id": "kn3weyfMVm8N",
    "outputId": "b283e521-9dda-418a-e7e7-a15c1b5a2aaa"
   },
   "outputs": [],
   "source": [
    "s={10,10,20,30,30,'A',True,'A','Python',20}\n",
    "print(s)"
   ]
  },
  {
   "cell_type": "code",
   "execution_count": 0,
   "metadata": {
    "application/vnd.databricks.v1+cell": {
     "cellMetadata": {},
     "inputWidgets": {},
     "nuid": "0217d0c9-71ef-4bb2-a617-2ba893b00b19",
     "showTitle": false,
     "tableResultSettingsMap": {},
     "title": ""
    },
    "colab": {
     "base_uri": "https://localhost:8080/",
     "height": 141
    },
    "id": "8AAc7UaVXm54",
    "outputId": "29c7424e-34c5-43af-b341-87853197d251"
   },
   "outputs": [],
   "source": [
    "s[1]"
   ]
  },
  {
   "cell_type": "code",
   "execution_count": 0,
   "metadata": {
    "application/vnd.databricks.v1+cell": {
     "cellMetadata": {},
     "inputWidgets": {},
     "nuid": "c8047ac7-3796-4fa7-a797-9a411f720a38",
     "showTitle": false,
     "tableResultSettingsMap": {},
     "title": ""
    },
    "id": "HuaG8H5wX0lz"
   },
   "outputs": [],
   "source": [
    "s.add(99)"
   ]
  },
  {
   "cell_type": "code",
   "execution_count": 0,
   "metadata": {
    "application/vnd.databricks.v1+cell": {
     "cellMetadata": {},
     "inputWidgets": {},
     "nuid": "fe2e6500-10ff-43c2-8578-9a821eb9583f",
     "showTitle": false,
     "tableResultSettingsMap": {},
     "title": ""
    },
    "colab": {
     "base_uri": "https://localhost:8080/"
    },
    "id": "cw1BUFJ3X7Mn",
    "outputId": "315dbe51-f71e-4bc0-a670-6edbeb1f02a0"
   },
   "outputs": [],
   "source": [
    "print(s)"
   ]
  },
  {
   "cell_type": "markdown",
   "metadata": {
    "application/vnd.databricks.v1+cell": {
     "cellMetadata": {},
     "inputWidgets": {},
     "nuid": "a8a75d11-bd6a-4e3c-ae98-9c18427397e3",
     "showTitle": false,
     "tableResultSettingsMap": {},
     "title": ""
    },
    "id": "YYDkCYNZYw0o"
   },
   "source": [
    "# Dict\n",
    "\n",
    "\n",
    "1.   {k:v}\n",
    "2.   Duplicate keys are NOT allowed\n",
    "3. Duplicate values are allowed\n",
    "4. Heterogenous are allowed\n",
    "5. Mutable\n",
    "\n",
    "\n"
   ]
  },
  {
   "cell_type": "code",
   "execution_count": 0,
   "metadata": {
    "application/vnd.databricks.v1+cell": {
     "cellMetadata": {},
     "inputWidgets": {},
     "nuid": "c29c6760-2156-42d7-a933-f836903a5b8f",
     "showTitle": false,
     "tableResultSettingsMap": {},
     "title": ""
    },
    "id": "_fHAdVtdX85Q"
   },
   "outputs": [],
   "source": [
    "d={1:'Naval',2:\"Ramakrishna\",3:\"Jaya\",4:\"Praveen\",5:\"Praveen\",6:True,7:100.0,\"a\":\"b\",\"c\":[10,20]}"
   ]
  },
  {
   "cell_type": "code",
   "execution_count": 0,
   "metadata": {
    "application/vnd.databricks.v1+cell": {
     "cellMetadata": {},
     "inputWidgets": {},
     "nuid": "c879c4f7-e2c4-49fc-adca-f0a6e71186b1",
     "showTitle": false,
     "tableResultSettingsMap": {},
     "title": ""
    },
    "colab": {
     "base_uri": "https://localhost:8080/"
    },
    "id": "rpDRjy87ZUtY",
    "outputId": "061dd06e-3f53-447d-d8bc-93d18ea75a20"
   },
   "outputs": [],
   "source": [
    "print(d)"
   ]
  },
  {
   "cell_type": "code",
   "execution_count": 0,
   "metadata": {
    "application/vnd.databricks.v1+cell": {
     "cellMetadata": {},
     "inputWidgets": {},
     "nuid": "890434ee-1e5b-4d26-b9fc-0f9e219b7fcf",
     "showTitle": false,
     "tableResultSettingsMap": {},
     "title": ""
    },
    "id": "ZMKE0Z3UZVSM"
   },
   "outputs": [],
   "source": [
    "d[5]='Mohan'"
   ]
  },
  {
   "cell_type": "code",
   "execution_count": 0,
   "metadata": {
    "application/vnd.databricks.v1+cell": {
     "cellMetadata": {},
     "inputWidgets": {},
     "nuid": "b523c3b3-46ab-4d24-83eb-3d7b03ca2d45",
     "showTitle": false,
     "tableResultSettingsMap": {},
     "title": ""
    },
    "colab": {
     "base_uri": "https://localhost:8080/"
    },
    "id": "K5PtA51zZgOC",
    "outputId": "4fbabaac-32a6-490a-d555-2fe8f204a30f"
   },
   "outputs": [],
   "source": [
    "print(d)"
   ]
  },
  {
   "cell_type": "code",
   "execution_count": 0,
   "metadata": {
    "application/vnd.databricks.v1+cell": {
     "cellMetadata": {},
     "inputWidgets": {},
     "nuid": "d9c06a86-e673-434d-b2aa-9fcd87c6826d",
     "showTitle": false,
     "tableResultSettingsMap": {},
     "title": ""
    },
    "colab": {
     "base_uri": "https://localhost:8080/"
    },
    "id": "g5kjo0k5ZiFN",
    "outputId": "943c04df-710e-4dd8-f9d2-b42dc1eaa411"
   },
   "outputs": [],
   "source": [
    "print(d[\"c\"][1])"
   ]
  },
  {
   "cell_type": "code",
   "execution_count": 0,
   "metadata": {
    "application/vnd.databricks.v1+cell": {
     "cellMetadata": {},
     "inputWidgets": {},
     "nuid": "e3fd90b1-2b11-4d4a-822e-5aaaaee4b801",
     "showTitle": false,
     "tableResultSettingsMap": {},
     "title": ""
    },
    "id": "8U2bDN-eaq1-"
   },
   "outputs": [],
   "source": [
    "Range: sequence of Number"
   ]
  },
  {
   "cell_type": "code",
   "execution_count": 0,
   "metadata": {
    "application/vnd.databricks.v1+cell": {
     "cellMetadata": {},
     "inputWidgets": {},
     "nuid": "f2f228ef-ceff-4e88-882c-950388e6d922",
     "showTitle": false,
     "tableResultSettingsMap": {},
     "title": ""
    },
    "colab": {
     "base_uri": "https://localhost:8080/"
    },
    "id": "meg-sjx8emR1",
    "outputId": "f3faa148-5cf2-4425-8385-1f73ff09d8d7"
   },
   "outputs": [],
   "source": [
    "range(10)"
   ]
  },
  {
   "cell_type": "code",
   "execution_count": 0,
   "metadata": {
    "application/vnd.databricks.v1+cell": {
     "cellMetadata": {},
     "inputWidgets": {},
     "nuid": "e664fc49-085a-42d4-a766-34ca7e66d0d4",
     "showTitle": false,
     "tableResultSettingsMap": {},
     "title": ""
    },
    "colab": {
     "base_uri": "https://localhost:8080/"
    },
    "id": "MpPzd_xOepzQ",
    "outputId": "9e59d26f-3106-45b6-c92f-7042a862df14"
   },
   "outputs": [],
   "source": [
    "for i in range(10):\n",
    "  print(i)"
   ]
  },
  {
   "cell_type": "code",
   "execution_count": 0,
   "metadata": {
    "application/vnd.databricks.v1+cell": {
     "cellMetadata": {},
     "inputWidgets": {},
     "nuid": "f2a41110-ab56-4531-af38-ab6d6623a5d8",
     "showTitle": false,
     "tableResultSettingsMap": {},
     "title": ""
    },
    "colab": {
     "base_uri": "https://localhost:8080/"
    },
    "id": "Sm-A5wAPfRCW",
    "outputId": "74104dc9-c567-46ea-d9f3-1f3c961859da"
   },
   "outputs": [],
   "source": [
    "for i in range(5,10):\n",
    "  print(i)"
   ]
  },
  {
   "cell_type": "code",
   "execution_count": 0,
   "metadata": {
    "application/vnd.databricks.v1+cell": {
     "cellMetadata": {},
     "inputWidgets": {},
     "nuid": "557d43d3-5328-4504-b9f8-4aef4fd9ab28",
     "showTitle": false,
     "tableResultSettingsMap": {},
     "title": ""
    },
    "colab": {
     "base_uri": "https://localhost:8080/"
    },
    "id": "7h1S9f1NffuG",
    "outputId": "d4af08cf-8da6-4dff-cb52-d366afa7dca7"
   },
   "outputs": [],
   "source": [
    "for i in range(3,30,3):\n",
    "  print(i)"
   ]
  },
  {
   "cell_type": "code",
   "execution_count": 0,
   "metadata": {
    "application/vnd.databricks.v1+cell": {
     "cellMetadata": {},
     "inputWidgets": {},
     "nuid": "afce0c85-59a0-4014-aa8b-5c61c8729e65",
     "showTitle": false,
     "tableResultSettingsMap": {},
     "title": ""
    },
    "colab": {
     "base_uri": "https://localhost:8080/"
    },
    "id": "kWrLMli6fvb4",
    "outputId": "27dfd6a4-b1e4-4a87-ca30-dcdd457a9d3a"
   },
   "outputs": [],
   "source": [
    "for i in range(50,1,-5):\n",
    "  print(i)"
   ]
  },
  {
   "cell_type": "code",
   "execution_count": 0,
   "metadata": {
    "application/vnd.databricks.v1+cell": {
     "cellMetadata": {},
     "inputWidgets": {},
     "nuid": "c98b784e-4644-4af7-b761-0f9fb6dbaeb8",
     "showTitle": false,
     "tableResultSettingsMap": {},
     "title": ""
    },
    "colab": {
     "base_uri": "https://localhost:8080/",
     "height": 158
    },
    "id": "RAxAn_e2gPDb",
    "outputId": "f58e1089-16fb-47fc-8998-165f12e757c5"
   },
   "outputs": [],
   "source": [
    "for i in range(0.3,1.5,0.3):\n",
    "  print(i)"
   ]
  }
 ],
 "metadata": {
  "application/vnd.databricks.v1+notebook": {
   "computePreferences": null,
   "dashboards": [],
   "environmentMetadata": null,
   "inputWidgetPreferences": null,
   "language": "python",
   "notebookMetadata": {
    "pythonIndentUnit": 4
   },
   "notebookName": "Day1_Python_Basics",
   "widgets": {}
  },
  "colab": {
   "provenance": []
  },
  "kernelspec": {
   "display_name": "Python 3",
   "name": "python3"
  },
  "language_info": {
   "name": "python"
  }
 },
 "nbformat": 4,
 "nbformat_minor": 0
}
