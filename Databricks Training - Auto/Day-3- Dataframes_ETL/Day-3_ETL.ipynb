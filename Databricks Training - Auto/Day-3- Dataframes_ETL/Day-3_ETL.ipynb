{
 "cells": [
  {
   "cell_type": "code",
   "execution_count": 0,
   "metadata": {
    "application/vnd.databricks.v1+cell": {
     "cellMetadata": {
      "byteLimit": 2048000,
      "rowLimit": 10000
     },
     "inputWidgets": {},
     "nuid": "e02ded97-fed3-45df-a36c-bbc6ecc9ec51",
     "showTitle": false,
     "tableResultSettingsMap": {},
     "title": ""
    }
   },
   "outputs": [],
   "source": [
    "from pyspark.sql.functions import *"
   ]
  },
  {
   "cell_type": "code",
   "execution_count": 0,
   "metadata": {
    "application/vnd.databricks.v1+cell": {
     "cellMetadata": {
      "byteLimit": 2048000,
      "rowLimit": 10000
     },
     "inputWidgets": {},
     "nuid": "1d69f4fc-58b8-41eb-b18e-175e61448b19",
     "showTitle": false,
     "tableResultSettingsMap": {},
     "title": ""
    }
   },
   "outputs": [],
   "source": [
    "input_path=\"/Volumes/auto/naval/raw/circuits.csv\""
   ]
  },
  {
   "cell_type": "code",
   "execution_count": 0,
   "metadata": {
    "application/vnd.databricks.v1+cell": {
     "cellMetadata": {
      "byteLimit": 2048000,
      "rowLimit": 10000
     },
     "inputWidgets": {},
     "nuid": "ed321861-b6ad-4875-8853-a99dc4f1adbd",
     "showTitle": true,
     "tableResultSettingsMap": {},
     "title": "Extract"
    }
   },
   "outputs": [],
   "source": [
    "#reading\n",
    "df=spark.read.csv(input_path,header=True,inferSchema=True)"
   ]
  },
  {
   "cell_type": "code",
   "execution_count": 0,
   "metadata": {
    "application/vnd.databricks.v1+cell": {
     "cellMetadata": {
      "byteLimit": 2048000,
      "rowLimit": 10000
     },
     "inputWidgets": {},
     "nuid": "37ef85d9-190f-45ae-a345-518fcf83a68d",
     "showTitle": true,
     "tableResultSettingsMap": {},
     "title": "T"
    }
   },
   "outputs": [],
   "source": [
    "#transformation\n",
    "df_new=df.withColumnRenamed('circuitId','circuit_id')\\\n",
    ".withColumnRenamed('circuitRef','circuit_ref')\\\n",
    ".withColumn(\"ingestion_date\",current_date())\\\n",
    "    .drop(\"url\")"
   ]
  },
  {
   "cell_type": "code",
   "execution_count": 0,
   "metadata": {
    "application/vnd.databricks.v1+cell": {
     "cellMetadata": {
      "byteLimit": 2048000,
      "rowLimit": 10000
     },
     "inputWidgets": {},
     "nuid": "67625868-4cdb-4815-8496-3a2fc7dc4f41",
     "showTitle": true,
     "tableResultSettingsMap": {},
     "title": "Load"
    }
   },
   "outputs": [],
   "source": [
    "df_new.write.mode(\"overwrite\").saveAsTable(\"auto.naval.circuits\")"
   ]
  },
  {
   "cell_type": "code",
   "execution_count": 0,
   "metadata": {
    "application/vnd.databricks.v1+cell": {
     "cellMetadata": {
      "byteLimit": 2048000,
      "rowLimit": 10000
     },
     "inputWidgets": {},
     "nuid": "dbbba9ca-1a6d-4184-9652-a728f2b6c6f6",
     "showTitle": false,
     "tableResultSettingsMap": {},
     "title": ""
    }
   },
   "outputs": [],
   "source": [
    "#reading\n",
    "df=spark.read.csv(input_path,header=True,inferSchema=True)\n",
    "\n",
    "#transformation\n",
    "df_new=df.withColumnRenamed('circuitId','circuit_id')\\\n",
    ".withColumnRenamed('circuitRef','circuit_ref')\\\n",
    ".withColumn(\"ingestion_date\",current_date())\\\n",
    "    .drop(\"url\")\n",
    "\n",
    "#writing / Loading\n",
    "df_new.write.mode(\"overwrite\").saveAsTable(\"auto.naval.circuits\")"
   ]
  },
  {
   "cell_type": "code",
   "execution_count": 0,
   "metadata": {
    "application/vnd.databricks.v1+cell": {
     "cellMetadata": {
      "byteLimit": 2048000,
      "rowLimit": 10000
     },
     "inputWidgets": {},
     "nuid": "7d59c00c-ffa0-4249-aa1e-ae0c88b4e6d0",
     "showTitle": false,
     "tableResultSettingsMap": {},
     "title": ""
    }
   },
   "outputs": [],
   "source": [
    "(\n",
    "    spark\n",
    "    .read\n",
    "    .csv(input_path,header=True,inferSchema=True)\n",
    "    .withColumnRenamed('circuitId','circuit_id')\n",
    "    .withColumnRenamed('circuitRef','circuit_ref')\n",
    "    .withColumn(\"ingestion_date\",current_date())\n",
    "    .drop(\"url\")\n",
    "    .write\n",
    "    .mode(\"overwrite\")\n",
    "    .saveAsTable(\"auto.naval.circuits\")\n",
    "    )"
   ]
  },
  {
   "cell_type": "code",
   "execution_count": 0,
   "metadata": {
    "application/vnd.databricks.v1+cell": {
     "cellMetadata": {
      "byteLimit": 2048000,
      "implicitDf": true,
      "rowLimit": 10000
     },
     "inputWidgets": {},
     "nuid": "ea14d15a-0e23-4acb-98c5-9b0c15f60fdf",
     "showTitle": false,
     "tableResultSettingsMap": {},
     "title": ""
    }
   },
   "outputs": [],
   "source": [
    "%sql\n",
    "select * from auto.naval.circuits where location ='Melbourne'"
   ]
  }
 ],
 "metadata": {
  "application/vnd.databricks.v1+notebook": {
   "computePreferences": null,
   "dashboards": [],
   "environmentMetadata": {
    "base_environment": "",
    "environment_version": "2"
   },
   "inputWidgetPreferences": null,
   "language": "python",
   "notebookMetadata": {
    "mostRecentlyExecutedCommandWithImplicitDF": {
     "commandId": 8388085932284770,
     "dataframes": [
      "_sqldf"
     ]
    },
    "pythonIndentUnit": 4
   },
   "notebookName": "Day-3_ETL",
   "widgets": {}
  },
  "language_info": {
   "name": "python"
  }
 },
 "nbformat": 4,
 "nbformat_minor": 0
}
